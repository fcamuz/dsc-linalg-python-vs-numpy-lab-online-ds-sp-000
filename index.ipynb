{
 "cells": [
  {
   "cell_type": "markdown",
   "metadata": {},
   "source": [
    "# Pure Python vs. Numpy - Lab\n",
    "\n",
    "## Introduction \n",
    "\n",
    "Numpy, Scipy and Pandas provide a significant increase in computational efficiency with complex mathematical operations as compared to Python's built in arithmetic functions. In this lab, you will calculate and compare the processing speed required for calculating a dot product using both basic arithmetic operations in Python and Numpy's `.dot()` method. \n",
    "\n",
    "## Objectives\n",
    "You will be able to:\n",
    "* Compare the performance of high-dimensional matrix operations in Numpy vs. pure Python\n",
    "\n",
    "## Problem \n",
    "\n",
    "Write a routine to calculate the dot product between two $200 \\times 200$ dimensional matrices using:\n",
    "\n",
    "a) Pure Python (no libraries)\n",
    "\n",
    "b) Numpy's `.dot()`\n",
    "\n",
    "\n",
    "### Create two $200 \\times 200$ matrices in Python and fill them with random values using `np.random.rand()` "
   ]
  },
  {
   "cell_type": "code",
   "execution_count": 15,
   "metadata": {},
   "outputs": [],
   "source": [
    "# Compare 200x200 matrix-matrix multiplication speed\n",
    "import numpy as np\n",
    "\n",
    "def matrix(i,j):\n",
    "\n",
    "    import random\n",
    "    X=np.zeros((i,j))\n",
    "\n",
    "    for i in range(i):\n",
    "        for j in range (j):\n",
    "            X[i,j]=np.random.rand()\n",
    "\n",
    "    return  X\n",
    "\n",
    "\n",
    "\n",
    "\n",
    "\n",
    "\n",
    "# Set up the variables\n",
    "A = matrix(200,200)\n",
    "B = matrix(200,200)\n"
   ]
  },
  {
   "cell_type": "markdown",
   "metadata": {},
   "source": [
    "## Pure Python\n",
    "\n",
    "* Initialize a zeros-filled `numpy` matrix\n",
    "* In Python, calculate the dot product using the formula \n",
    "\n",
    "\n",
    "$$ \\large C_{i,j}= \\sum_k A_{i,k}B_{k,j}$$\n",
    "\n",
    "\n",
    "* Use Python's `timeit` library to calculate the processing time\n",
    "* [Visit this link](https://www.pythoncentral.io/time-a-python-function/) for an in-depth explanation on how to time a function or routine in python\n",
    "\n",
    "**Hint**: Use a nested for loop for accessing, calculating and storing each scalar value in the resulting matrix"
   ]
  },
  {
   "cell_type": "code",
   "execution_count": 17,
   "metadata": {},
   "outputs": [
    {
     "name": "stdout",
     "output_type": "stream",
     "text": [
      "[[5.31787052e+01 5.04161931e+01 4.94693542e+01 ... 1.15153316e+00\n",
      "  9.12968011e-01 5.17068728e-01]\n",
      " [5.38147393e+01 5.10591809e+01 5.17204898e+01 ... 5.35060869e-01\n",
      "  5.89519283e-01 5.57031085e-01]\n",
      " [4.57056683e+01 4.34161678e+01 4.40457501e+01 ... 6.01243250e-01\n",
      "  3.39400460e-01 5.01753727e-01]\n",
      " ...\n",
      " [2.47508249e-01 4.95494418e-01 2.34048426e-01 ... 2.42319091e-01\n",
      "  1.82947241e-01 2.83807508e-01]\n",
      " [3.14387344e-01 8.88942078e-01 1.61310063e-01 ... 5.06415369e-01\n",
      "  7.28207251e-01 6.35599626e-01]\n",
      " [6.27703204e-02 2.10677846e-01 5.77521603e-02 ... 3.03429485e-02\n",
      "  8.77851487e-02 3.95350123e-01]]\n",
      "Pure Python Time: 5.667751646999932 sec.\n"
     ]
    }
   ],
   "source": [
    "C=np.zeros((200,200))\n",
    " \n",
    "\n",
    "import timeit\n",
    "\n",
    "# Start the timer\n",
    "start = timeit.default_timer()\n",
    "\n",
    "\n",
    "# Matrix multiplication in pure Python\n",
    "for i in range (200):\n",
    "    for k in range(200):\n",
    "        c=0\n",
    "        for j in range (200): \n",
    "            c=c+A[i,j]*B[k,j]\n",
    "        C[i,k]=c    \n",
    "\n",
    "print(C)\n",
    "\n",
    "time_spent =  timeit.default_timer() - start\n",
    "\n",
    "\n",
    "print('Pure Python Time:', time_spent, 'sec.')\n",
    "\n",
    "\n",
    "\n",
    "\n"
   ]
  },
  {
   "cell_type": "markdown",
   "metadata": {},
   "source": [
    "## Numpy \n",
    "Set the timer and calculate the time taken by `.dot()` function for multiplying $A$ and $B$ \n"
   ]
  },
  {
   "cell_type": "code",
   "execution_count": 19,
   "metadata": {},
   "outputs": [
    {
     "name": "stdout",
     "output_type": "stream",
     "text": [
      "Numpy Time: 0.7674479110000902 sec.\n"
     ]
    }
   ],
   "source": [
    "# start the timer\n",
    "start = timeit.default_timer()\n",
    "\n",
    "C=A.dot(B)\n",
    "\n",
    "\n",
    "time_spent = timeit.default_timer() - start\n",
    "print('Numpy Time:', time_spent, 'sec.')"
   ]
  },
  {
   "cell_type": "markdown",
   "metadata": {},
   "source": [
    "### Your comments \n",
    "\n",
    "\n",
    "```\n",
    "5.6 secomnds to 0.76, it is pretty fast with .dot method. \n",
    "\n",
    "\n",
    "```\n",
    "\n",
    "## Summary\n",
    "\n",
    "In this lab, you performed a quick comparison between calculating a dot product in Numpy vs Python built in function. You saw that Numpy is computationally much more efficient that Python code because of the sophisticated implementation of Numpy source code. You're encouraged to always perform time tests to fully appreciate the use of an additional library in Python. "
   ]
  },
  {
   "cell_type": "code",
   "execution_count": null,
   "metadata": {},
   "outputs": [],
   "source": []
  }
 ],
 "metadata": {
  "kernelspec": {
   "display_name": "Python 3",
   "language": "python",
   "name": "python3"
  },
  "language_info": {
   "codemirror_mode": {
    "name": "ipython",
    "version": 3
   },
   "file_extension": ".py",
   "mimetype": "text/x-python",
   "name": "python",
   "nbconvert_exporter": "python",
   "pygments_lexer": "ipython3",
   "version": "3.7.1"
  }
 },
 "nbformat": 4,
 "nbformat_minor": 2
}
